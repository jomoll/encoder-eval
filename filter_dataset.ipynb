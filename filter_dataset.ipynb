{
 "cells": [
  {
   "cell_type": "code",
   "execution_count": null,
   "id": "6043fa1c",
   "metadata": {},
   "outputs": [],
   "source": [
    "from datasets import load_dataset\n",
    "import re\n",
    "\n",
    "# ---- 1. Login to Hugging Face (only needs to be done once per session) ----\n",
    "# Replace with your HF token (with write access)\n",
    "# login(\"hf_your_token_here\")\n",
    "\n",
    "# ---- 2. Load dataset ----\n",
    "dataset = load_dataset(\"jomoll/mimic-cxr-reports\")\n",
    "\n",
    "# ---- 3. Filter for non-empty findings ----\n",
    "def has_findings(example):\n",
    "    return example[\"findings_section\"] is not None and example[\"findings_section\"].strip() != \"\"\n",
    "\n",
    "filtered_dataset = dataset.filter(has_findings)\n",
    "\n",
    "# ---- 4. Remove Pleura section ----\n",
    "def remove_pleura(example):\n",
    "    text = example[\"findings_section\"]\n",
    "\n",
    "    # Regex: \"Pleura:\" followed by text until next subsection (capitalized word + colon) or end\n",
    "    cleaned = re.sub(r\"Pleura:.*?(?=(?:[A-Z][a-z]+:)|$)\", \"\", text, flags=re.DOTALL)\n",
    "    # also remove \"Lungs and Airways:\" section if it exists\n",
    "    cleaned2 = re.sub(r\"Lungs and Airways:.*?(?=(?:[A-Z][a-z]+:)|$)\", \"\", cleaned, flags=re.DOTALL)\n",
    "    cleaned3 = re.sub(r\"Cardiovascular:.*?(?=(?:[A-Z][a-z]+:)|$)\", \"\", cleaned2, flags=re.DOTALL)\n",
    "    cleaned4 = re.sub(r\"Tubes, Catheters, and Support Devices:.*?(?=(?:[A-Z][a-z]+:)|$)\", \"\", cleaned3, flags=re.DOTALL)\n",
    "    # Normalize whitespace\n",
    "    cleaned = re.sub(r\"\\n\\s*\\n\", \"\\n\", cleaned).strip()\n",
    "    cleaned2 = re.sub(r\"\\n\\s*\\n\", \"\\n\", cleaned2).strip()\n",
    "    cleaned3 = re.sub(r\"\\n\\s*\\n\", \"\\n\", cleaned3).strip()\n",
    "    cleaned4 = re.sub(r\"\\n\\s*\\n\", \"\\n\", cleaned4).strip()\n",
    "\n",
    "    example[\"findings_no_pleura\"] = cleaned\n",
    "    example[\"findings_no_pleura_no_lungs\"] = cleaned2\n",
    "    example[\"findings_no_pleura_no_lungs_no_cardio\"] = cleaned3\n",
    "    example[\"findings_no_pleura_no_lungs_no_cardio_no_tubes\"] = cleaned4\n",
    "\n",
    "    return example\n",
    "\n",
    "processed_dataset = filtered_dataset.map(remove_pleura)\n",
    "\n",
    "# ---- 5. Push to Hub ----\n",
    "# This will create \"jomoll/mimic-cxr-reports-no-pleura\" under your account\n",
    "processed_dataset.push_to_hub(\"jomoll/mimic-cxr-reports-no-pleura\")\n"
   ]
  }
 ],
 "metadata": {
  "language_info": {
   "name": "python"
  }
 },
 "nbformat": 4,
 "nbformat_minor": 5
}
